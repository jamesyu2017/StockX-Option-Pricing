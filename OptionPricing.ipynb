{
 "cells": [
  {
   "cell_type": "code",
   "execution_count": 14,
   "metadata": {},
   "outputs": [],
   "source": [
    "import numpy as np\n",
    "\n",
    "def BinOption(N, T, S0, K, sigma, r, call=True, full_output=False):\n",
    "    # initialize\n",
    "    dt = T/N\n",
    "    u = np.exp(sigma*np.sqrt(dt))\n",
    "    d = 1/u\n",
    "    p = (np.exp(r*dt)-d)/(u-d)\n",
    "    \n",
    "    # price_tree\n",
    "    PriceTree = np.zeros([N+1, N+1])\n",
    "    \n",
    "    for i in range(N+1):\n",
    "        for j in range(i+1):\n",
    "            PriceTree[j, i] = S0*(d**j)*(u**(i-j))\n",
    "    \n",
    "    # Option Value\n",
    "    option = np.zeros([N+1, N+1])\n",
    "    if call:\n",
    "        option[:, N] = np.maximum(np.zeros(N+1), PriceTree[:, N]-K)\n",
    "    else:\n",
    "        option[:, N] = np.maximum(np.zeros(N+1), K-PriceTree[:, N])\n",
    "    \n",
    "    # Calculate option price\n",
    "    for i in np.arange(N-1, -1, -1):\n",
    "        for j in np.arange(0, i+1):\n",
    "            option[j, i] = np.exp(-r*dt)*(p*option[j, i+1] + (1-p)*option[j+1, i+1])\n",
    "    \n",
    "    # Result\n",
    "    if full_output:\n",
    "        return [option[0, 0], PriceTree, option]\n",
    "    else:\n",
    "        return option[0,0]"
   ]
  },
  {
   "cell_type": "code",
   "execution_count": 15,
   "metadata": {},
   "outputs": [
    {
     "data": {
      "text/plain": [
       "23.57038499740173"
      ]
     },
     "execution_count": 15,
     "metadata": {},
     "output_type": "execute_result"
    }
   ],
   "source": [
    "# calculate put option price of yeezy-beluga\n",
    "BinOption(30, 1/12, 451, 474, 0.18, 0.05, False, False)"
   ]
  },
  {
   "cell_type": "code",
   "execution_count": 13,
   "metadata": {},
   "outputs": [
    {
     "data": {
      "text/plain": [
       "16.996461813689244"
      ]
     },
     "execution_count": 13,
     "metadata": {},
     "output_type": "execute_result"
    }
   ],
   "source": [
    "# calculate call option price of yeezy-beluga\n",
    "BinOption(30, 1/12, 484, 474, 0.18, 0.05, True, False)"
   ]
  },
  {
   "cell_type": "code",
   "execution_count": null,
   "metadata": {},
   "outputs": [],
   "source": []
  }
 ],
 "metadata": {
  "kernelspec": {
   "display_name": "Python 3",
   "language": "python",
   "name": "python3"
  },
  "language_info": {
   "codemirror_mode": {
    "name": "ipython",
    "version": 3
   },
   "file_extension": ".py",
   "mimetype": "text/x-python",
   "name": "python",
   "nbconvert_exporter": "python",
   "pygments_lexer": "ipython3",
   "version": "3.7.1"
  }
 },
 "nbformat": 4,
 "nbformat_minor": 2
}
